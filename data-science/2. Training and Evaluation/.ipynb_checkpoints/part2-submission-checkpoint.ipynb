{
 "cells": [
  {
   "cell_type": "markdown",
   "id": "ce060bc6",
   "metadata": {},
   "source": [
    "# MSA 2023 Phase 2 - Part 2"
   ]
  },
  {
   "cell_type": "code",
   "execution_count": 1,
   "id": "7d488f42",
   "metadata": {},
   "outputs": [],
   "source": [
    "import sklearn\n",
    "import numpy as np\n",
    "import pandas as pd\n",
    "import seaborn as sns\n",
    "import matplotlib.pyplot as plt\n",
    "from sklearn.model_selection import train_test_split\n",
    "import pickle\n",
    "%matplotlib inline"
   ]
  },
  {
   "cell_type": "markdown",
   "id": "08c4bc0a",
   "metadata": {},
   "source": [
    "## 1. Load and split preprocessed data"
   ]
  },
  {
   "cell_type": "code",
   "execution_count": 2,
   "id": "82b64b4b",
   "metadata": {},
   "outputs": [],
   "source": [
    "# load data and split train test data\n",
    "df = pd.read_csv('../0. Resources/datasets/credit_risk_preprocessed.csv', encoding = 'utf-8')\n",
    "\n",
    "# split data\n",
    "x_train, x_test, y_train, y_test = train_test_split(df[[c for c in df.columns if c != 'class']], df['class'], test_size = 0.33, random_state = 30)"
   ]
  },
  {
   "cell_type": "code",
   "execution_count": 3,
   "id": "2fc38330-fc96-4fbc-b9ff-bc6227971bc5",
   "metadata": {},
   "outputs": [
    {
     "name": "stdout",
     "output_type": "stream",
     "text": [
      "x_train: (670, 80)\n",
      "x_test: (330, 80)\n"
     ]
    }
   ],
   "source": [
    "print('x_train:', x_train.shape)\n",
    "print('x_test:', x_test.shape)"
   ]
  },
  {
   "cell_type": "markdown",
   "id": "c03221b0",
   "metadata": {},
   "source": [
    "## 2. Choose an algorithm"
   ]
  },
  {
   "cell_type": "code",
   "execution_count": 4,
   "id": "e560c3b5",
   "metadata": {},
   "outputs": [],
   "source": [
    "# the data includes categorical data and numerical data. ensemble model like random forest and xgboost would be appropriate\n",
    "from sklearn.ensemble import RandomForestClassifier\n",
    "from xgboost import XGBClassifier\n",
    "from sklearn.tree import DecisionTreeClassifier\n",
    "from sklearn.linear_model import LogisticRegression\n",
    "from sklearn.svm import SVC\n",
    "from sklearn.model_selection import cross_validate\n",
    "from sklearn.metrics import f1_score, roc_auc_score, recall_score, accuracy_score"
   ]
  },
  {
   "cell_type": "markdown",
   "id": "3e06351b",
   "metadata": {},
   "source": [
    "## 3. Train and test a model"
   ]
  },
  {
   "cell_type": "code",
   "execution_count": 5,
   "id": "619bb3d3",
   "metadata": {},
   "outputs": [
    {
     "name": "stdout",
     "output_type": "stream",
     "text": [
      "-----------------------------------------\n",
      "random forest\n",
      "Accuracy: 0.7537 Precision: 0.6557 Recall: 0.3464\n",
      "-----------------------------------------\n",
      "xgboost\n",
      "Accuracy: 0.7134 Precision: 0.5106 Recall: 0.4078\n",
      "-----------------------------------------\n",
      "decision tree\n",
      "Accuracy: 0.6881 Precision: 0.4752 Recall: 0.4997\n",
      "-----------------------------------------\n",
      "logistic regression\n",
      "Accuracy: 0.7388 Precision: 0.5612 Recall: 0.4686\n",
      "-----------------------------------------\n",
      "svm\n",
      "Accuracy: 0.7522 Precision: 0.6384 Recall: 0.3567\n"
     ]
    }
   ],
   "source": [
    "# train and test a model\n",
    "# hyper parameter search\n",
    "\n",
    "model_rf = RandomForestClassifier(n_estimators = 50)\n",
    "model_xgb = XGBClassifier(n_estimators = 50)\n",
    "model_dt = DecisionTreeClassifier()\n",
    "model_lr = LogisticRegression()\n",
    "model_svc = SVC(kernel = 'rbf')\n",
    "\n",
    "# model_rf.fit(x_train, y_train)\n",
    "# model_xgb.fit(x_train, y_train)\n",
    "# model_dt.fit(x_train, y_train)\n",
    "# model_lr.fit(x_train, y_train)\n",
    "# model_svc.fit(x_train, y_train)\n",
    "\n",
    "# y_pred_rf = model_rf.predict(x_test)\n",
    "# y_pred_xgb = model_xgb.predict(x_test)\n",
    "# y_pred_dt = model_dt.predict(x_test)\n",
    "# y_pred_lr = model_lr.predict(x_test)\n",
    "# y_pred_svc = model_svc.predict(x_test)\n",
    "\n",
    "models = {'random forest': model_rf, 'xgboost': model_xgb, 'decision tree': model_dt, 'logistic regression': model_lr, 'svm': model_svc}\n",
    "\n",
    "for m in models.keys():\n",
    "    print('-----------------------------------------')\n",
    "    print(m)\n",
    "    scores = cross_validate(models[m], x_train, y_train, scoring=['accuracy', 'precision', 'recall'], cv=5)\n",
    "    print('Accuracy: %.4f'%np.mean(scores['test_accuracy']), 'Precision: %.4f'%np.mean(scores['test_precision']), 'Recall: %.4f'%np.mean(scores['test_recall']))\n",
    "\n"
   ]
  },
  {
   "cell_type": "code",
   "execution_count": 6,
   "id": "ee8e952e-a87e-4b07-857e-cf6c0b6a4d55",
   "metadata": {},
   "outputs": [],
   "source": [
    "# Choose Logistic Regression as the model\n",
    "model_lr = LogisticRegression()\n",
    "\n",
    "model_lr.fit(x_train, y_train)\n",
    "\n",
    "y_test_pred = model_lr.predict(x_test)"
   ]
  },
  {
   "cell_type": "markdown",
   "id": "5cafcd88",
   "metadata": {},
   "source": [
    "## 4. Evaluate the model "
   ]
  },
  {
   "cell_type": "code",
   "execution_count": 7,
   "id": "55b0785c",
   "metadata": {},
   "outputs": [
    {
     "name": "stdout",
     "output_type": "stream",
     "text": [
      "logistic regression:  accuracy: 0.7485 recall: 0.4712  f1: 0.5414  auc: 0.6736\n"
     ]
    }
   ],
   "source": [
    "# check the result\n",
    "print('logistic regression: ', 'accuracy: %.4f'%accuracy_score(y_test, y_test_pred),  'recall: %.4f'%recall_score(y_test, y_test_pred), \n",
    "      ' f1: %.4f'%f1_score(y_test, y_test_pred), ' auc: %.4f'%roc_auc_score(y_test, y_test_pred))"
   ]
  },
  {
   "cell_type": "code",
   "execution_count": 8,
   "id": "2dba91c7-3af9-486d-bf42-7eb2ec71034a",
   "metadata": {},
   "outputs": [],
   "source": [
    "# saving model\n",
    "with open('model_lr.pkl', 'wb') as f:\n",
    "    pickle.dump(model_lr, f)"
   ]
  },
  {
   "cell_type": "markdown",
   "id": "802b550a",
   "metadata": {},
   "source": [
    "## 5. Summary"
   ]
  },
  {
   "cell_type": "markdown",
   "id": "0dda11f9",
   "metadata": {},
   "source": []
  }
 ],
 "metadata": {
  "kernelspec": {
   "display_name": "Python 3 (ipykernel)",
   "language": "python",
   "name": "python3"
  },
  "language_info": {
   "codemirror_mode": {
    "name": "ipython",
    "version": 3
   },
   "file_extension": ".py",
   "mimetype": "text/x-python",
   "name": "python",
   "nbconvert_exporter": "python",
   "pygments_lexer": "ipython3",
   "version": "3.8.5"
  },
  "toc": {
   "base_numbering": 1,
   "nav_menu": {},
   "number_sections": true,
   "sideBar": true,
   "skip_h1_title": false,
   "title_cell": "Table of Contents",
   "title_sidebar": "Contents",
   "toc_cell": false,
   "toc_position": {},
   "toc_section_display": true,
   "toc_window_display": false
  }
 },
 "nbformat": 4,
 "nbformat_minor": 5
}
